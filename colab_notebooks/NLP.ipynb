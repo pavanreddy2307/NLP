{
  "nbformat": 4,
  "nbformat_minor": 0,
  "metadata": {
    "colab": {
      "provenance": [],
      "authorship_tag": "ABX9TyMFzYsZItT4ZZWWtSMuuzhB",
      "include_colab_link": true
    },
    "kernelspec": {
      "name": "python3",
      "display_name": "Python 3"
    },
    "language_info": {
      "name": "python"
    }
  },
  "cells": [
    {
      "cell_type": "markdown",
      "metadata": {
        "id": "view-in-github",
        "colab_type": "text"
      },
      "source": [
        "<a href=\"https://colab.research.google.com/github/pavanreddy2307/NLP/blob/main/colab_notebooks/NLP.ipynb\" target=\"_parent\"><img src=\"https://colab.research.google.com/assets/colab-badge.svg\" alt=\"Open In Colab\"/></a>"
      ]
    },
    {
      "cell_type": "code",
      "execution_count": 23,
      "metadata": {
        "colab": {
          "base_uri": "https://localhost:8080/"
        },
        "id": "kvKLZLQaz6jp",
        "outputId": "0d9fe6af-2f85-4d34-b5fc-d2c98f3e18c6"
      },
      "outputs": [
        {
          "output_type": "stream",
          "name": "stdout",
          "text": [
            "Requirement already satisfied: nltk in /usr/local/lib/python3.10/dist-packages (3.8.1)\n",
            "Requirement already satisfied: click in /usr/local/lib/python3.10/dist-packages (from nltk) (8.1.7)\n",
            "Requirement already satisfied: joblib in /usr/local/lib/python3.10/dist-packages (from nltk) (1.3.2)\n",
            "Requirement already satisfied: regex>=2021.8.3 in /usr/local/lib/python3.10/dist-packages (from nltk) (2023.12.25)\n",
            "Requirement already satisfied: tqdm in /usr/local/lib/python3.10/dist-packages (from nltk) (4.66.2)\n"
          ]
        },
        {
          "output_type": "stream",
          "name": "stderr",
          "text": [
            "[nltk_data] Downloading package punkt to /root/nltk_data...\n",
            "[nltk_data]   Package punkt is already up-to-date!\n"
          ]
        },
        {
          "output_type": "execute_result",
          "data": {
            "text/plain": [
              "True"
            ]
          },
          "metadata": {},
          "execution_count": 23
        }
      ],
      "source": [
        "!pip install nltk\n",
        "nltk.download('punkt')"
      ]
    },
    {
      "cell_type": "code",
      "source": [
        "corpus='''Game of thrones is one of the best online webseries.\n",
        "  Watching game of thrones before watching house of dragon is not neccesary.\n",
        "  '''"
      ],
      "metadata": {
        "id": "C38WxX6S1w1e"
      },
      "execution_count": 5,
      "outputs": []
    },
    {
      "cell_type": "code",
      "source": [
        "print(corpus)"
      ],
      "metadata": {
        "colab": {
          "base_uri": "https://localhost:8080/"
        },
        "id": "dCibkZhu2HPS",
        "outputId": "dd638a31-9c37-4b6f-959a-dade88a91f34"
      },
      "execution_count": 3,
      "outputs": [
        {
          "output_type": "stream",
          "name": "stdout",
          "text": [
            "Game of thrones is one of the best online webseries.\n",
            "  \n"
          ]
        }
      ]
    },
    {
      "cell_type": "code",
      "source": [
        "# @title Tokeiniztion Sentence <---> paragraphs\n",
        "from nltk.tokenize import sent_tokenize\n"
      ],
      "metadata": {
        "id": "2QCUDKPG2aF3"
      },
      "execution_count": 14,
      "outputs": []
    },
    {
      "cell_type": "code",
      "source": [
        "documents=sent_tokenize(corpus)"
      ],
      "metadata": {
        "id": "bwDomfdb2wBl"
      },
      "execution_count": 18,
      "outputs": []
    },
    {
      "cell_type": "code",
      "source": [],
      "metadata": {
        "id": "mIHRNFKS3uM9"
      },
      "execution_count": null,
      "outputs": []
    },
    {
      "cell_type": "code",
      "source": [
        "# @title Tokeiniztion Sentence <---> words, paragraphs <--->words\n",
        "from nltk.tokenize import word_tokenize\n",
        "from nltk.tokenize import wordpunct_tokenize\n",
        "\n"
      ],
      "metadata": {
        "id": "oc7dVQUR31kS"
      },
      "execution_count": 19,
      "outputs": []
    },
    {
      "cell_type": "code",
      "source": [
        "word_tokenize(corpus)"
      ],
      "metadata": {
        "colab": {
          "base_uri": "https://localhost:8080/"
        },
        "id": "kyeTF1Sa4CKl",
        "outputId": "37adb2a5-94e8-417c-d57a-907739332936"
      },
      "execution_count": 20,
      "outputs": [
        {
          "output_type": "execute_result",
          "data": {
            "text/plain": [
              "['Game',\n",
              " 'of',\n",
              " 'thrones',\n",
              " 'is',\n",
              " 'one',\n",
              " 'of',\n",
              " 'the',\n",
              " 'best',\n",
              " 'online',\n",
              " 'webseries',\n",
              " '.',\n",
              " 'Watching',\n",
              " 'game',\n",
              " 'of',\n",
              " 'thrones',\n",
              " 'before',\n",
              " 'watching',\n",
              " 'house',\n",
              " 'of',\n",
              " 'dragon',\n",
              " 'is',\n",
              " 'not',\n",
              " 'neccesary',\n",
              " '.']"
            ]
          },
          "metadata": {},
          "execution_count": 20
        }
      ]
    },
    {
      "cell_type": "markdown",
      "source": [
        "Tree Bank word Tokenizer\n",
        "```\n",
        "TreebankwordTokenizer\n",
        "```\n",
        "\n"
      ],
      "metadata": {
        "id": "79wE1ZWL4z0j"
      }
    },
    {
      "cell_type": "code",
      "source": [
        "from nltk.tokenize import TreebankWordTokenizer\n",
        "\n",
        "tokenizer=TreebankWordTokenizer()\n",
        "tokenizer.tokenize(corpus)"
      ],
      "metadata": {
        "colab": {
          "base_uri": "https://localhost:8080/"
        },
        "id": "CLw3-0gI4_zk",
        "outputId": "596c0506-64c2-4917-c5a5-07c11bc1f9d0"
      },
      "execution_count": 22,
      "outputs": [
        {
          "output_type": "execute_result",
          "data": {
            "text/plain": [
              "['Game',\n",
              " 'of',\n",
              " 'thrones',\n",
              " 'is',\n",
              " 'one',\n",
              " 'of',\n",
              " 'the',\n",
              " 'best',\n",
              " 'online',\n",
              " 'webseries.',\n",
              " 'Watching',\n",
              " 'game',\n",
              " 'of',\n",
              " 'thrones',\n",
              " 'before',\n",
              " 'watching',\n",
              " 'house',\n",
              " 'of',\n",
              " 'dragon',\n",
              " 'is',\n",
              " 'not',\n",
              " 'neccesary',\n",
              " '.']"
            ]
          },
          "metadata": {},
          "execution_count": 22
        }
      ]
    }
  ]
}